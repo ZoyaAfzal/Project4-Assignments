{
  "nbformat": 4,
  "nbformat_minor": 0,
  "metadata": {
    "colab": {
      "provenance": [],
      "authorship_tag": "ABX9TyP7pUsQHqlz8Sfm/fO7P/0a",
      "include_colab_link": true
    },
    "kernelspec": {
      "name": "python3",
      "display_name": "Python 3"
    },
    "language_info": {
      "name": "python"
    }
  },
  "cells": [
    {
      "cell_type": "markdown",
      "metadata": {
        "id": "view-in-github",
        "colab_type": "text"
      },
      "source": [
        "<a href=\"https://colab.research.google.com/github/ZoyaAfzal/Project4-Assignments/blob/main/Assignments%2000%20to%2005/05_loops_control_flow.ipynb\" target=\"_parent\"><img src=\"https://colab.research.google.com/assets/colab-badge.svg\" alt=\"Open In Colab\"/></a>"
      ]
    },
    {
      "cell_type": "code",
      "execution_count": 8,
      "metadata": {
        "colab": {
          "base_uri": "https://localhost:8080/"
        },
        "id": "qNo9ZMQtxIMM",
        "outputId": "71b7e491-f928-453f-d1ab-74fe605688c4"
      },
      "outputs": [
        {
          "output_type": "stream",
          "name": "stdout",
          "text": [
            "05_loops_control_flow\n",
            "I am thinking of a number between 1 and 100.\n",
            "Can you guess what it is?\n",
            "Enter your guess: 50\n",
            "Too high! Try again.\n",
            "Enter a new guess: 40\n",
            "Too high! Try again.\n",
            "Enter a new guess: 30\n",
            "Too high! Try again.\n",
            "Enter a new guess: 20\n",
            "Too high! Try again.\n",
            "Enter a new guess: 10\n",
            "Too high! Try again.\n",
            "Enter a new guess: 5\n",
            "Too low! Try again.\n",
            "Enter a new guess: 8\n",
            "Too high! Try again.\n",
            "Enter a new guess: 6\n",
            "🎉 Congratulations! You guessed the number 6 correctly!\n"
          ]
        }
      ],
      "source": [
        "import random\n",
        "\n",
        "print('05_loops_control_flow')\n",
        "\n",
        "def guess_number():\n",
        "    secret_num = random.randint(1, 100)\n",
        "    print('I am thinking of a number between 1 and 100.')\n",
        "    print('Can you guess what it is?')\n",
        "\n",
        "    guess = int(input('Enter your guess: '))\n",
        "\n",
        "    while guess != secret_num:\n",
        "        if guess < secret_num:\n",
        "            print('Too low! Try again.')\n",
        "        else:\n",
        "            print('Too high! Try again.')\n",
        "        guess = int(input(\"Enter a new guess: \"))\n",
        "\n",
        "    print(f'🎉 Congratulations! You guessed the number {secret_num} correctly!')\n",
        "\n",
        "if __name__ == '__main__':\n",
        "    guess_number()\n"
      ]
    },
    {
      "cell_type": "code",
      "source": [
        "print('01_fibonacci')\n",
        "\n",
        "max_value = 10000\n",
        "\n",
        "def main():\n",
        "  a,b = 0,1\n",
        "  print(a,b, end = \" \")\n",
        "\n",
        "  while True:\n",
        "    c = a + b\n",
        "    if c > max_value:\n",
        "      break\n",
        "    print(c, end = \" \")\n",
        "    a,b = b,c\n",
        "\n",
        "if __name__ == '__main__':\n",
        "  main()\n"
      ],
      "metadata": {
        "colab": {
          "base_uri": "https://localhost:8080/"
        },
        "id": "pRZTWhRRElMN",
        "outputId": "a6b427ab-3974-40e9-e0a0-d3da500d35c0"
      },
      "execution_count": 10,
      "outputs": [
        {
          "output_type": "stream",
          "name": "stdout",
          "text": [
            "01_fibonacci\n",
            "0 1 1 2 3 5 8 13 21 34 55 89 144 233 377 610 987 1597 2584 4181 6765 "
          ]
        }
      ]
    },
    {
      "cell_type": "code",
      "source": [
        "print('02_print_events')\n",
        "\n",
        "def even_numbers():\n",
        "  for i in range(20):\n",
        "    print (i * 2)\n",
        "\n",
        "if __name__ == '__main__':\n",
        "  even_numbers()"
      ],
      "metadata": {
        "colab": {
          "base_uri": "https://localhost:8080/"
        },
        "id": "KxHJ5KM1G-zw",
        "outputId": "1bc52e63-7b83-4981-ec62-2c9d67e31349"
      },
      "execution_count": 12,
      "outputs": [
        {
          "output_type": "stream",
          "name": "stdout",
          "text": [
            "02_print_events\n",
            "0\n",
            "2\n",
            "4\n",
            "6\n",
            "8\n",
            "10\n",
            "12\n",
            "14\n",
            "16\n",
            "18\n",
            "20\n",
            "22\n",
            "24\n",
            "26\n",
            "28\n",
            "30\n",
            "32\n",
            "34\n",
            "36\n",
            "38\n"
          ]
        }
      ]
    },
    {
      "cell_type": "code",
      "source": [
        "print('03_wholesome_machine')\n",
        "\n",
        "affirmation : str = \"I am capable of doing anything I put my mind to.\"\n",
        "\n",
        "def my_affirm():\n",
        "  print('Welcome to the wholesome machine')\n",
        "  while True:\n",
        "    user_input = input('Please type the following affirmation: ' + affirmation)\n",
        "    if user_input == affirmation:\n",
        "       print(\"That's right! :)\")\n",
        "       break\n",
        "    else:\n",
        "       print(\"That was not the affirmation! :( Try Again\")\n",
        "\n",
        "if __name__ == '__main__':\n",
        "  my_affirm()\n"
      ],
      "metadata": {
        "colab": {
          "base_uri": "https://localhost:8080/"
        },
        "id": "PW1viyeJIFM7",
        "outputId": "b48d2b92-cd1f-48dc-fd9b-ffc7f9361dc2"
      },
      "execution_count": 13,
      "outputs": [
        {
          "output_type": "stream",
          "name": "stdout",
          "text": [
            "03_wholesome_machine\n",
            "Welcome to the wholesome machine\n",
            "Please type the following affirmation: I am capable of doing anything I put my mind to.I am capable of doing anything I put my mind to.\n",
            "That's right! :)\n"
          ]
        }
      ]
    },
    {
      "cell_type": "code",
      "source": [
        "print('04_liftoff')\n",
        "\n",
        "def liftoff():\n",
        "  for i in range(10, 0, -1):\n",
        "    print(i, end = \" \")\n",
        "  print('Liftoff!')\n",
        "\n",
        "if __name__ == '__main__':\n",
        "  liftoff()"
      ],
      "metadata": {
        "colab": {
          "base_uri": "https://localhost:8080/"
        },
        "id": "D_0F-DPuOAbk",
        "outputId": "016be55b-e546-4c00-ef81-efc668576aa3"
      },
      "execution_count": 16,
      "outputs": [
        {
          "output_type": "stream",
          "name": "stdout",
          "text": [
            "04_liftoff\n",
            "10 9 8 7 6 5 4 3 2 1 Liftoff!\n"
          ]
        }
      ]
    },
    {
      "cell_type": "code",
      "source": [
        "print('05_double_it')\n",
        "\n",
        "def double_num():\n",
        "  user_val = int(input('Please enter a number:'))\n",
        "  while user_val < 100:\n",
        "    user_val = user_val * 2\n",
        "    print(user_val)\n",
        "\n",
        "if __name__ == '__main__':\n",
        "  double_num()\n",
        "\n"
      ],
      "metadata": {
        "colab": {
          "base_uri": "https://localhost:8080/"
        },
        "id": "YX539_sDO1ci",
        "outputId": "547e8f6e-12b7-4f31-8ca7-5191082b4127"
      },
      "execution_count": 18,
      "outputs": [
        {
          "output_type": "stream",
          "name": "stdout",
          "text": [
            "05_double_it\n",
            "Please enter a number:4\n",
            "8\n",
            "16\n",
            "32\n",
            "64\n",
            "128\n"
          ]
        }
      ]
    }
  ]
}