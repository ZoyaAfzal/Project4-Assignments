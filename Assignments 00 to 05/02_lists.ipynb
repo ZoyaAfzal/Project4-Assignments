{
  "nbformat": 4,
  "nbformat_minor": 0,
  "metadata": {
    "colab": {
      "provenance": [],
      "authorship_tag": "ABX9TyPN/XJLTKUmWheCwL4fQR1G",
      "include_colab_link": true
    },
    "kernelspec": {
      "name": "python3",
      "display_name": "Python 3"
    },
    "language_info": {
      "name": "python"
    }
  },
  "cells": [
    {
      "cell_type": "markdown",
      "metadata": {
        "id": "view-in-github",
        "colab_type": "text"
      },
      "source": [
        "<a href=\"https://colab.research.google.com/github/ZoyaAfzal/Project4-Assignments/blob/main/Assignments%2000%20to%2005/02_lists.ipynb\" target=\"_parent\"><img src=\"https://colab.research.google.com/assets/colab-badge.svg\" alt=\"Open In Colab\"/></a>"
      ]
    },
    {
      "cell_type": "code",
      "execution_count": 2,
      "metadata": {
        "colab": {
          "base_uri": "https://localhost:8080/"
        },
        "id": "bG6oXV81tJ9u",
        "outputId": "57fa4302-5905-4d7d-d10e-2170297af8ba"
      },
      "outputs": [
        {
          "output_type": "stream",
          "name": "stdout",
          "text": [
            "01_add_many_number\n",
            "15\n"
          ]
        }
      ],
      "source": [
        "print('01_add_many_number')\n",
        "\n",
        "def add_many(numbers)->int :\n",
        "  num: int = 0\n",
        "  for number in numbers:\n",
        "    num += number\n",
        "  return num\n",
        "\n",
        "def main():\n",
        "  numbers: list[int] = [1, 2, 3, 4, 5]\n",
        "  sum_of_numbers: int = add_many(numbers)\n",
        "  print(sum_of_numbers)\n",
        "\n",
        "if __name__ == '__main__':\n",
        "  main()"
      ]
    },
    {
      "cell_type": "code",
      "source": [
        "print('02_double_list')\n",
        "\n",
        "def double_list():\n",
        "  numbers: list[int] = [1, 2, 3, 4]\n",
        "\n",
        "  for i in range(len(numbers)):\n",
        "    indices_of_list = numbers[i]\n",
        "    numbers[i] = indices_of_list * 2\n",
        "  print(numbers)\n",
        "\n",
        "if __name__ == '__main__':\n",
        "  double_list()\n",
        "\n"
      ],
      "metadata": {
        "colab": {
          "base_uri": "https://localhost:8080/"
        },
        "id": "PGvoXYvey8qD",
        "outputId": "5c81eaaf-ae0a-4993-86e8-70f7c786006d"
      },
      "execution_count": 4,
      "outputs": [
        {
          "output_type": "stream",
          "name": "stdout",
          "text": [
            "02_double_list\n",
            "[2, 4, 6, 8]\n"
          ]
        }
      ]
    },
    {
      "cell_type": "code",
      "source": [
        "print('04_flowing_with_data_structure')\n",
        "\n",
        "def add_three_copies(my_list, data):\n",
        "  for i in range(3):\n",
        "    my_list.append(data)\n",
        "\n",
        "def main():\n",
        "  message: str = input('Enter a message to copy...')\n",
        "  my_list: list = []\n",
        "  print('List before: ', my_list)\n",
        "  add_three_copies(my_list, message)\n",
        "  print('List after: ', my_list)\n",
        "\n",
        "if __name__ == '__main__':\n",
        "  main()\n",
        "\n",
        "\n",
        "\n"
      ],
      "metadata": {
        "colab": {
          "base_uri": "https://localhost:8080/"
        },
        "id": "7kwPjYoN22Nc",
        "outputId": "4896534f-dc51-4a9a-d934-9608620c9e1e"
      },
      "execution_count": 6,
      "outputs": [
        {
          "output_type": "stream",
          "name": "stdout",
          "text": [
            "04_flowing_with_data_structure\n",
            "Enter a message to copy...Hello World!\n",
            "List before:  []\n",
            "List after:  ['Hello World!', 'Hello World!', 'Hello World!']\n"
          ]
        }
      ]
    },
    {
      "cell_type": "code",
      "source": [
        "print('05_get_first_element')\n",
        "\n",
        "def get_first_element(lst):\n",
        "  print(lst[0])\n",
        "\n",
        "def get_list():\n",
        "  lst: list = []\n",
        "  elem = input(\"Enter an element to the list or press Enter to stop: \")\n",
        "  while elem != \"\":\n",
        "    lst.append(elem)\n",
        "    elem = input(\"Enter an element to the list or press Enter to stop: \")\n",
        "  return lst\n",
        "\n",
        "def main():\n",
        "  lst = get_list()\n",
        "  get_first_element(lst)\n",
        "\n",
        "if __name__ == '__main__':\n",
        "  main()\n",
        "\n"
      ],
      "metadata": {
        "colab": {
          "base_uri": "https://localhost:8080/"
        },
        "id": "zKMkg00s9cGE",
        "outputId": "457bc4f2-d804-431d-e71f-7215f03ed738"
      },
      "execution_count": 11,
      "outputs": [
        {
          "output_type": "stream",
          "name": "stdout",
          "text": [
            "05_get_first_element\n",
            "Enter an element to the list or press Enter to stop: Cherry\n",
            "Enter an element to the list or press Enter to stop: Berry\n",
            "Enter an element to the list or press Enter to stop: Strawberry\n",
            "Enter an element to the list or press Enter to stop: \n",
            "Cherry\n"
          ]
        }
      ]
    },
    {
      "cell_type": "code",
      "source": [
        "print('06_get_last_element')\n",
        "\n",
        "def get_last_element(lst):\n",
        "  print(lst[-1])\n",
        "\n",
        "def get_list():\n",
        "  lst: list = []\n",
        "  elem = input(\"Enter an element to the list or press Enter to stop: \")\n",
        "  while elem != \"\":\n",
        "    lst.append(elem)\n",
        "    elem = input(\"Enter an element to the list or press Enter to stop: \")\n",
        "  return lst\n",
        "\n",
        "def main():\n",
        "  lst = get_list()\n",
        "  get_last_element(lst)\n",
        "\n",
        "if __name__ == '__main__':\n",
        "  main()\n",
        "\n"
      ],
      "metadata": {
        "colab": {
          "base_uri": "https://localhost:8080/"
        },
        "id": "ruIZ_s0HEXWz",
        "outputId": "21312151-f3e2-42ac-b28d-64cad1fdb1c1"
      },
      "execution_count": 3,
      "outputs": [
        {
          "output_type": "stream",
          "name": "stdout",
          "text": [
            "06_get_last_element\n",
            "Enter an element to the list or press Enter to stop: Javascript\n",
            "Enter an element to the list or press Enter to stop: Typescript\n",
            "Enter an element to the list or press Enter to stop: Python\n",
            "Enter an element to the list or press Enter to stop: \n",
            "Python\n"
          ]
        }
      ]
    },
    {
      "cell_type": "code",
      "source": [
        "print('07_get_list')\n",
        "\n",
        "def get_list():\n",
        "  lst: list = []\n",
        "\n",
        "  val = input(\"Enter a value \")\n",
        "  while val:\n",
        "    lst.append(val)\n",
        "    val = input(\"Enter a value \")\n",
        "\n",
        "  return lst\n",
        "\n",
        "def main():\n",
        "  lst = get_list()\n",
        "  print(lst)\n",
        "\n",
        "if __name__ == '__main__':\n",
        "  main()"
      ],
      "metadata": {
        "colab": {
          "base_uri": "https://localhost:8080/"
        },
        "id": "7JMFceR_ICZB",
        "outputId": "dded5f54-b162-4a56-bae7-b5ad65a35428"
      },
      "execution_count": 5,
      "outputs": [
        {
          "output_type": "stream",
          "name": "stdout",
          "text": [
            "07_get_list\n",
            "Enter a value 2\n",
            "Enter a value 4\n",
            "Enter a value \n",
            "['2', '4']\n"
          ]
        }
      ]
    },
    {
      "cell_type": "code",
      "source": [
        "print('08_shorten')\n",
        "\n",
        "MAX_LENGTH: int = 3\n",
        "\n",
        "def shorten(lst):\n",
        "  while len(lst) >= MAX_LENGTH:\n",
        "    last_elem = lst.pop()\n",
        "    print(last_elem)\n",
        "\n",
        "def get_list():\n",
        "  lst: list = []\n",
        "  elem = input(\"Enter an element to the list or press Enter to stop: \")\n",
        "  while elem != \"\":\n",
        "    lst.append(elem)\n",
        "    elem = input(\"Enter an element to the list or press Enter to stop: \")\n",
        "  return lst\n",
        "\n",
        "def main():\n",
        "  lst = get_list()\n",
        "  shorten(lst)\n",
        "\n",
        "if __name__ == '__main__':\n",
        "  main()"
      ],
      "metadata": {
        "colab": {
          "base_uri": "https://localhost:8080/"
        },
        "id": "-4b8qtZwNaLZ",
        "outputId": "56bc49e0-1599-4ff9-e6a1-756a4716ceeb"
      },
      "execution_count": 9,
      "outputs": [
        {
          "output_type": "stream",
          "name": "stdout",
          "text": [
            "08_shorten\n",
            "Enter an element to the list or press Enter to stop: Red\n",
            "Enter an element to the list or press Enter to stop: Yellow\n",
            "Enter an element to the list or press Enter to stop: Blue\n",
            "Enter an element to the list or press Enter to stop: Green\n",
            "Enter an element to the list or press Enter to stop: Pink\n",
            "Enter an element to the list or press Enter to stop: \n",
            "Pink\n",
            "Green\n"
          ]
        }
      ]
    }
  ]
}