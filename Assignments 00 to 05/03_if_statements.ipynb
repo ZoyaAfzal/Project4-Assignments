{
  "nbformat": 4,
  "nbformat_minor": 0,
  "metadata": {
    "colab": {
      "provenance": [],
      "authorship_tag": "ABX9TyMSy/gijqyWPIL9Qti9UxDb",
      "include_colab_link": true
    },
    "kernelspec": {
      "name": "python3",
      "display_name": "Python 3"
    },
    "language_info": {
      "name": "python"
    }
  },
  "cells": [
    {
      "cell_type": "markdown",
      "metadata": {
        "id": "view-in-github",
        "colab_type": "text"
      },
      "source": [
        "<a href=\"https://colab.research.google.com/github/ZoyaAfzal/Project4-Assignments/blob/main/Assignments%2000%20to%2005/03_if_statements.ipynb\" target=\"_parent\"><img src=\"https://colab.research.google.com/assets/colab-badge.svg\" alt=\"Open In Colab\"/></a>"
      ]
    },
    {
      "cell_type": "code",
      "execution_count": 6,
      "metadata": {
        "colab": {
          "base_uri": "https://localhost:8080/"
        },
        "id": "mEyAskc9pxqu",
        "outputId": "80462a03-d230-4a54-e783-83c02c07b1ce"
      },
      "outputs": [
        {
          "output_type": "stream",
          "name": "stdout",
          "text": [
            "01_print_events\n",
            "Here are the first twenty even numbers:\n",
            "0\n",
            "2\n",
            "4\n",
            "6\n",
            "8\n",
            "10\n",
            "12\n",
            "14\n",
            "16\n",
            "18\n",
            "20\n",
            "22\n",
            "24\n",
            "26\n",
            "28\n",
            "30\n",
            "32\n",
            "34\n",
            "36\n",
            "38\n"
          ]
        }
      ],
      "source": [
        "print('01_print_events')\n",
        "\n",
        "def even_nums():\n",
        "    print('Here are the first twenty even numbers:')\n",
        "    count = 0\n",
        "    for i in range(100):  # a bigger range to ensure we get 20 even numbers\n",
        "        if i % 2 == 0:\n",
        "            print(i)\n",
        "            count += 1\n",
        "        if count == 20:\n",
        "            break\n",
        "\n",
        "if __name__ == \"__main__\":\n",
        "  even_nums()\n"
      ]
    },
    {
      "cell_type": "code",
      "source": [
        "print('02_international_voting_age')\n",
        "\n",
        "VOTING_AGE_PETURKS = 16\n",
        "VOTING_AGE_STANLAU = 25\n",
        "VOTING_AGE_MAYENGUA = 48\n",
        "\n",
        "def check_voting_eligibility():\n",
        "    age = int(input(\"Enter your age: \"))\n",
        "\n",
        "    # Checking eligibility for Peturks\n",
        "    if age >= VOTING_AGE_PETURKS:\n",
        "        print(f\"Eligible to vote in Peturks (minimum age: {VOTING_AGE_PETURKS}).\")\n",
        "    else:\n",
        "        print(f\"Not eligible to vote in Peturks (must be at least {VOTING_AGE_PETURKS} years old).\")\n",
        "\n",
        "    # Checking eligibility for Stanlau\n",
        "    if age >= VOTING_AGE_STANLAU:\n",
        "        print(f\"Eligible to vote in Stanlau (minimum age: {VOTING_AGE_STANLAU}).\")\n",
        "    else:\n",
        "        print(f\"Not eligible to vote in Stanlau (must be at least {VOTING_AGE_STANLAU} years old).\")\n",
        "\n",
        "    # Checking eligibility for Mayengua\n",
        "    if age >= VOTING_AGE_MAYENGUA:\n",
        "        print(f\"Eligible to vote in Mayengua (minimum age: {VOTING_AGE_MAYENGUA}).\")\n",
        "    else:\n",
        "        print(f\"Not eligible to vote in Mayengua (must be at least {VOTING_AGE_MAYENGUA} years old).\")\n",
        "\n",
        "\n",
        "if __name__ == \"__main__\":\n",
        "    check_voting_eligibility()\n"
      ],
      "metadata": {
        "colab": {
          "base_uri": "https://localhost:8080/"
        },
        "id": "Saga-wFytwYT",
        "outputId": "e3f62615-38f0-4899-e29c-603cc4734eb8"
      },
      "execution_count": 7,
      "outputs": [
        {
          "output_type": "stream",
          "name": "stdout",
          "text": [
            "02_international_voting_age\n",
            "Enter your age: 25\n",
            "Eligible to vote in Peturks (minimum age: 16).\n",
            "Eligible to vote in Stanlau (minimum age: 25).\n",
            "Not eligible to vote in Mayengua (must be at least 48 years old).\n"
          ]
        }
      ]
    },
    {
      "cell_type": "code",
      "source": [
        "print('03_leap_year')\n",
        "\n",
        "def check_leap_year():\n",
        "    input_year = int(input(\"Enter a year to find out if it's a leap year: \"))\n",
        "\n",
        "    if input_year % 4 == 0:\n",
        "        if input_year % 100 == 0:\n",
        "            if input_year % 400 == 0:\n",
        "                print(\"Yes, it's a leap year!\")\n",
        "            else:\n",
        "                print(\"Nope, not a leap year.\")\n",
        "        else:\n",
        "            print(\"Yes, it's a leap year!\")\n",
        "    else:\n",
        "        print(\"Nope, not a leap year.\")\n",
        "\n",
        "\n",
        "if __name__ == \"__main__\":\n",
        "    check_leap_year()\n"
      ],
      "metadata": {
        "colab": {
          "base_uri": "https://localhost:8080/"
        },
        "id": "htNNq_L9xDce",
        "outputId": "4da4636a-5461-43fa-ed11-051a13aa14d6"
      },
      "execution_count": 14,
      "outputs": [
        {
          "output_type": "stream",
          "name": "stdout",
          "text": [
            "03_leap_year\n",
            "Enter a year to find out if it's a leap year: 2040\n",
            "Yes, it's a leap year!\n"
          ]
        }
      ]
    },
    {
      "cell_type": "code",
      "source": [
        "print('04_tall_enough_to_ride')\n",
        "\n",
        "MIN_HEIGHT_REQUIREMENT: int = 50\n",
        "\n",
        "def ride_check():\n",
        "    user_height = float(input(\"Enter your height: \"))\n",
        "\n",
        "    if user_height >= MIN_HEIGHT_REQUIREMENT:\n",
        "        print(\"Awesome! You're good to go on the ride.\")\n",
        "    else:\n",
        "        print(\"Oops! You're a bit short for this ride. Try again next season!\")\n",
        "\n",
        "\n",
        "if __name__ == \"__main__\":\n",
        "    ride_check()\n"
      ],
      "metadata": {
        "colab": {
          "base_uri": "https://localhost:8080/"
        },
        "id": "wQ4z4EUlzkGA",
        "outputId": "c9cff50f-2665-4c4b-b22f-cd2b004a87e4"
      },
      "execution_count": 16,
      "outputs": [
        {
          "output_type": "stream",
          "name": "stdout",
          "text": [
            "04_tall_enough_to_ride\n",
            "Enter your height: 90\n",
            "Awesome! You're good to go on the ride.\n"
          ]
        }
      ]
    },
    {
      "cell_type": "code",
      "source": [
        "import random\n",
        "\n",
        "print('05_random_number')\n",
        "\n",
        "# Constants\n",
        "N_NUMBERS: int = 10\n",
        "MIN_VALUE: int = 1\n",
        "MAX_VALUE: int = 100\n",
        "\n",
        "def generate_random_numbers():\n",
        "    print(f\"Generating {N_NUMBERS} random numbers between {MIN_VALUE} and {MAX_VALUE}:\\n\")\n",
        "    for _ in range(N_NUMBERS):\n",
        "        number = random.randint(MIN_VALUE, MAX_VALUE)\n",
        "        print(number, end=\" \")\n",
        "\n",
        "# Entry point of the program\n",
        "if __name__ == \"__main__\":\n",
        "    generate_random_numbers()\n"
      ],
      "metadata": {
        "colab": {
          "base_uri": "https://localhost:8080/"
        },
        "id": "WK7Fpw4342vF",
        "outputId": "c3ed1170-8abc-4545-aac4-ec820d770902"
      },
      "execution_count": 17,
      "outputs": [
        {
          "output_type": "stream",
          "name": "stdout",
          "text": [
            "05_random_number\n",
            "Generating 10 random numbers between 1 and 100:\n",
            "\n",
            "87 63 19 33 31 24 85 87 73 57 "
          ]
        }
      ]
    }
  ]
}