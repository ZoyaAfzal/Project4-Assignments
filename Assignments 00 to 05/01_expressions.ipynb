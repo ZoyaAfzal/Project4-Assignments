{
  "nbformat": 4,
  "nbformat_minor": 0,
  "metadata": {
    "colab": {
      "provenance": [],
      "authorship_tag": "ABX9TyPQxWDrpgxoU//1QZwkf96j",
      "include_colab_link": true
    },
    "kernelspec": {
      "name": "python3",
      "display_name": "Python 3"
    },
    "language_info": {
      "name": "python"
    }
  },
  "cells": [
    {
      "cell_type": "markdown",
      "metadata": {
        "id": "view-in-github",
        "colab_type": "text"
      },
      "source": [
        "<a href=\"https://colab.research.google.com/github/ZoyaAfzal/Project4-Assignments/blob/main/Assignments%2000%20to%2005/01_expressions.ipynb\" target=\"_parent\"><img src=\"https://colab.research.google.com/assets/colab-badge.svg\" alt=\"Open In Colab\"/></a>"
      ]
    },
    {
      "cell_type": "code",
      "execution_count": 5,
      "metadata": {
        "colab": {
          "base_uri": "https://localhost:8080/"
        },
        "id": "JHy4dCZu_dhN",
        "outputId": "0f5e25b4-e76f-4320-cfad-13b9c001f428"
      },
      "outputs": [
        {
          "output_type": "stream",
          "name": "stdout",
          "text": [
            "01_dicesimulator\n",
            "dice1 in main starts as: 10\n",
            "Total of two dices is: 12\n",
            "Total of two dices is: 4\n",
            "Total of two dices is: 8\n",
            "dice1 in main is: 10\n"
          ]
        }
      ],
      "source": [
        "import random\n",
        "print('01_dicesimulator')\n",
        "\n",
        "DICE_SIDES: int = 6\n",
        "\n",
        "def roll_dice():\n",
        "  dice1: int = random.randint(1, DICE_SIDES)\n",
        "  dice2: int = random.randint(1, DICE_SIDES)\n",
        "  total: int = dice1 + dice2\n",
        "  print(f'Total of two dices is: {total}')\n",
        "\n",
        "def main():\n",
        "  dice1: int = 10\n",
        "  print('dice1 in main starts as: ' + str(dice1))\n",
        "  roll_dice()\n",
        "  roll_dice()\n",
        "  roll_dice()\n",
        "  print('dice1 in main is: ' + str(dice1))\n",
        "\n",
        "if __name__ == '__main__':\n",
        "  main()\n",
        "\n"
      ]
    },
    {
      "cell_type": "code",
      "source": [
        "print('02_e=mc2')\n",
        "\n",
        "C: int = 299792458\n",
        "\n",
        "def energy():\n",
        "  mass_in_kg: float = float(input(\"Enter kilos of mass: \"))\n",
        "  energy_in_joules: float = mass_in_kg * C**2\n",
        "\n",
        "  print(\"Formula of energy(e) = m * C^2...\")\n",
        "  print(\"Mass in kgs(m) = \" + str(mass_in_kg) + \" kg\")\n",
        "  print(\"Speed of light(C) = \" + str(C) + \" m/s\" )\n",
        "\n",
        "  print('Energy in joules(e): ' + str(energy_in_joules) + \" joules of energy!\")\n",
        "\n",
        "if __name__ == '__main__':\n",
        "  energy()\n"
      ],
      "metadata": {
        "colab": {
          "base_uri": "https://localhost:8080/"
        },
        "id": "gomRK7W_Z97f",
        "outputId": "4df4de93-ced9-4ae5-c00f-8c0d6835fe05"
      },
      "execution_count": 11,
      "outputs": [
        {
          "output_type": "stream",
          "name": "stdout",
          "text": [
            "02_e=mc2\n",
            "Enter kilos of mass: 300\n",
            "Formula of energy(e) = m * C^2...\n",
            "Mass in kgs(m) = 300.0 kg\n",
            "Speed of light(C) = 299792458 m/s\n",
            "Energy in joules(e): 2.696265536210453e+19 joules of energy!\n"
          ]
        }
      ]
    },
    {
      "cell_type": "code",
      "source": [
        "print('03_feet_to_inches')\n",
        "\n",
        "Inches_in_foot: int = 12\n",
        "\n",
        "def feet_to_inches():\n",
        "  feet: float = float(input(\"Enter feet numbers: \"))\n",
        "  inches: float = feet * Inches_in_foot\n",
        "  print(f'{feet} feet is equal to {inches} inches!.')\n",
        "\n",
        "if __name__ == '__main__':\n",
        "  feet_to_inches()\n"
      ],
      "metadata": {
        "colab": {
          "base_uri": "https://localhost:8080/"
        },
        "id": "qsO-BkgBp93l",
        "outputId": "707e527c-16e7-480c-b8bb-c25d641e481c"
      },
      "execution_count": 14,
      "outputs": [
        {
          "output_type": "stream",
          "name": "stdout",
          "text": [
            "03_feet_to_inches\n",
            "Enter feet numbers: 57\n",
            "57.0 feet is equal to 684.0 inches!.\n"
          ]
        }
      ]
    },
    {
      "cell_type": "code",
      "source": [
        "import math\n",
        "\n",
        "print('04_pythagorean_theorem')\n",
        "\n",
        "def right_triangle():\n",
        "  ab: float = float(input(\"Enter the length of side AB: \"))\n",
        "  ac: float = float(input(\"Enter the length of side AC: \"))\n",
        "  bc: float = math.sqrt(ab**2 + ac**2)\n",
        "  print(f'The length of side BC (the hypotenuse) is ' + str(bc) + \"!\")\n",
        "\n",
        "if __name__ == '__main__':\n",
        "  right_triangle()\n",
        "\n"
      ],
      "metadata": {
        "colab": {
          "base_uri": "https://localhost:8080/"
        },
        "id": "J2UtN2Igt-id",
        "outputId": "db490269-e024-4d3e-cdcf-00c44db82f16"
      },
      "execution_count": 17,
      "outputs": [
        {
          "output_type": "stream",
          "name": "stdout",
          "text": [
            "04_pythagorean_theorem\n",
            "Enter the length of side AB: 4\n",
            "Enter the length of side AC: 6\n",
            "The length of side BC(hypotnuse) is 7.211102550927978\n"
          ]
        }
      ]
    },
    {
      "cell_type": "code",
      "source": [
        "print('05_remainder_division')\n",
        "\n",
        "def remainder_division():\n",
        "  dividend: int = int(input(\"Enter an integer to be divided: \"))\n",
        "  divisor: int = int(input(\"Enter an integer to divide by: \"))\n",
        "  quotient: int = dividend // divisor\n",
        "  remainder: int = dividend % divisor\n",
        "\n",
        "  print(str(dividend) + \" divided by \" +  str(divisor) + \" is \" + str(quotient) + \" with a remainder of \" + str(remainder) + \"!\")\n",
        "\n",
        "if __name__ == '__main__':\n",
        "  remainder_division()\n"
      ],
      "metadata": {
        "colab": {
          "base_uri": "https://localhost:8080/"
        },
        "id": "Q_ySAlv8yLI3",
        "outputId": "9c97086a-7611-4304-8dce-cc3148a539dd"
      },
      "execution_count": 25,
      "outputs": [
        {
          "output_type": "stream",
          "name": "stdout",
          "text": [
            "05_remainder_division\n",
            "Enter an integer to be divided: 42\n",
            "Enter an integer to divide by: 7\n",
            "42 divided by 7 is 6 with a remainder of 0!\n"
          ]
        }
      ]
    },
    {
      "cell_type": "code",
      "source": [
        "import random\n",
        "print('06_rolldice')\n",
        "\n",
        "DICE_SIDES: int = 6\n",
        "\n",
        "def roll_dice():\n",
        "  dice1: int = random.randint(1, DICE_SIDES)\n",
        "  dice2: int = random.randint(1, DICE_SIDES)\n",
        "  total : int = dice1 + dice2\n",
        "\n",
        "  print('Dice have', DICE_SIDES, \"sides each.\")\n",
        "  print('First Dice:', dice1)\n",
        "  print('Second Dice:', dice2)\n",
        "  print(f'Total of two dices is: {total}')\n",
        "\n",
        "if __name__ == '__main__':\n",
        "  roll_dice()"
      ],
      "metadata": {
        "colab": {
          "base_uri": "https://localhost:8080/"
        },
        "id": "77OAcC98HTA3",
        "outputId": "3c1adec3-53b2-463e-b3e0-9a7072805a00"
      },
      "execution_count": 3,
      "outputs": [
        {
          "output_type": "stream",
          "name": "stdout",
          "text": [
            "06_rolldice\n",
            "Dice have 6 sides each.\n",
            "First Dice: 2\n",
            "Second Dice: 1\n",
            "Total of two dices is: 3\n"
          ]
        }
      ]
    },
    {
      "cell_type": "code",
      "source": [
        "print('06_seconds_in_year')\n",
        "\n",
        "days_per_year: int = 365\n",
        "hours_per_day: int = 24\n",
        "minutes_per_day: int = 60\n",
        "seconds_per_minute: int = 60\n",
        "\n",
        "def seconds_in_year():\n",
        "  seconds_in_year: int = str(days_per_year * hours_per_day * minutes_per_day * seconds_per_minute)\n",
        "  print(f'There are {seconds_in_year} seconds in a year!')\n",
        "\n",
        "if __name__ == '__main__':\n",
        "  seconds_in_year()\n",
        "\n"
      ],
      "metadata": {
        "colab": {
          "base_uri": "https://localhost:8080/"
        },
        "id": "acPwh8XRKyEL",
        "outputId": "c20c5735-f7a0-460c-a327-41b096d93a62"
      },
      "execution_count": 4,
      "outputs": [
        {
          "output_type": "stream",
          "name": "stdout",
          "text": [
            "06_seconds_in_year\n",
            "There are 31536000 seconds in a year!\n"
          ]
        }
      ]
    },
    {
      "cell_type": "code",
      "source": [
        " print('07_tiny_mad_lib')\n",
        "\n",
        "SENTENCE_START: str = \"Tomorrow, Panaversity will be buzzing \"\n",
        "\n",
        "def tiny_mad_lib():\n",
        "  adjective: str = input(\"Enter an adjective: \")\n",
        "  noun: str = input(\"Enter a noun: \")\n",
        "  verb: str = input(\"Enter a verb: \")\n",
        "  print(SENTENCE_START + adjective + \" \" + noun + \", all \" + verb + \" the future!\")\n",
        "\n",
        "if __name__ == '__main__':\n",
        "  tiny_mad_lib()\n",
        "\n"
      ],
      "metadata": {
        "colab": {
          "base_uri": "https://localhost:8080/"
        },
        "id": "2LaMaAm6PIvF",
        "outputId": "2ab9cbce-0010-4635-e4c8-e6d14a136414"
      },
      "execution_count": 6,
      "outputs": [
        {
          "output_type": "stream",
          "name": "stdout",
          "text": [
            "07_tiny_mad_lib\n",
            "Enter an adjective: brilliant\n",
            "Enter a noun: AI Developers\n",
            "Enter a verb: coding\n",
            "Tomorrow, Panaversity will be buzzing brilliant AI Developers, all coding the future!\n"
          ]
        }
      ]
    }
  ]
}