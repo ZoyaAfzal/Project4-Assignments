{
  "nbformat": 4,
  "nbformat_minor": 0,
  "metadata": {
    "colab": {
      "provenance": [],
      "authorship_tag": "ABX9TyODk9gADyLcLNKnZdwE3a/h",
      "include_colab_link": true
    },
    "kernelspec": {
      "name": "python3",
      "display_name": "Python 3"
    },
    "language_info": {
      "name": "python"
    }
  },
  "cells": [
    {
      "cell_type": "markdown",
      "metadata": {
        "id": "view-in-github",
        "colab_type": "text"
      },
      "source": [
        "<a href=\"https://colab.research.google.com/github/ZoyaAfzal/Project4-Assignments/blob/main/Assignments%2000%20to%2005/00_intro_python.ipynb\" target=\"_parent\"><img src=\"https://colab.research.google.com/assets/colab-badge.svg\" alt=\"Open In Colab\"/></a>"
      ]
    },
    {
      "cell_type": "code",
      "execution_count": 3,
      "metadata": {
        "colab": {
          "base_uri": "https://localhost:8080/"
        },
        "id": "rN0IyxBAciCj",
        "outputId": "13d80e0c-0cca-45af-9903-d902549ae055"
      },
      "outputs": [
        {
          "output_type": "stream",
          "name": "stdout",
          "text": [
            "01_add_two_numbers\n",
            "This program adds two numbers.\n",
            "Enter first number: 6\n",
            "Enter second number: 9\n",
            "The total sum of 6 and 9 is: 15\n"
          ]
        }
      ],
      "source": [
        "print(\"01_add_two_numbers\")\n",
        "\n",
        "def add_two_numbers():\n",
        "  print(\"This program adds two numbers.\")\n",
        "  first_number : str = input(\"Enter first number: \")\n",
        "  first_number : int = int(first_number)\n",
        "  second_number : str = input(\"Enter second number: \")\n",
        "  second_number : int = int(second_number)\n",
        "  total_number: int = first_number + second_number\n",
        "  print(f'The total sum of {first_number} and {second_number} is: {total_number}')\n",
        "\n",
        "if __name__ == '__main__':\n",
        "  add_two_numbers()"
      ]
    },
    {
      "cell_type": "code",
      "source": [
        "print(\"02_agreement_bot\")\n",
        "\n",
        "def bot():\n",
        "  animal: str = str(input('Tell me your favorite animal: '))\n",
        "  print(f'Wow! {animal} is my favorite too!')\n",
        "\n",
        "if __name__ == '__main__':\n",
        "  bot()\n"
      ],
      "metadata": {
        "colab": {
          "base_uri": "https://localhost:8080/"
        },
        "id": "xSCywWxShT8E",
        "outputId": "53e3be6e-f607-498f-cf1f-e3f9cba21718"
      },
      "execution_count": 10,
      "outputs": [
        {
          "output_type": "stream",
          "name": "stdout",
          "text": [
            "02_agreement_bot\n",
            "Tell me your favorite animal: rabbit\n",
            "Wow! rabbit is my favorite too!\n"
          ]
        }
      ]
    },
    {
      "cell_type": "code",
      "source": [
        "print('03_fahrenheit_to_celsius')\n",
        "\n",
        "def temp():\n",
        "  print('This program converts degrees Fahrenheit to degrees Celsius')\n",
        "  degrees_fahrenheit : float = float(input('Enter temperature in Fahrenheit: '))\n",
        "  degrees_celsius : float =  (degrees_fahrenheit - 32) * 5.0/9.0\n",
        "  print(f'{degrees_fahrenheit}°F is equal to {round(degrees_celsius, 2)}°C')\n",
        "\n",
        "if __name__ == '__main__':\n",
        "  temp()\n",
        "\n"
      ],
      "metadata": {
        "colab": {
          "base_uri": "https://localhost:8080/"
        },
        "id": "ISdH7JjIgaud",
        "outputId": "4fc94d4c-57d3-45af-cd22-6e45e00b78da"
      },
      "execution_count": 11,
      "outputs": [
        {
          "output_type": "stream",
          "name": "stdout",
          "text": [
            "03_fahrenheit_to_celsius\n",
            "This program converts degrees Fahrenheit to degrees Celsius\n",
            "Enter temperature in Fahrenheit: 42\n",
            "42.0°F is equal to 5.56°C\n"
          ]
        }
      ]
    },
    {
      "cell_type": "code",
      "source": [
        "print('04_how_old_are_they')\n",
        "\n",
        "def ages():\n",
        "  anton : int = 21\n",
        "  beth : int = anton + 6\n",
        "  chen : int = beth + 20\n",
        "  drew : int = chen + anton\n",
        "  ethan : int = chen\n",
        "\n",
        "  print(\"Anton is \" + str(anton) + \" years old.\")\n",
        "  print(\"Beth is \" + str(beth) + \" years old.\")\n",
        "  print(\"Chen is \" + str(chen) + \" years old.\")\n",
        "  print(\"Drew is \" + str(drew) + \" years old.\")\n",
        "  print(\"Ethan is \" + str(ethan) + \" years old.\")\n",
        "\n",
        "if __name__ == '__main__':\n",
        "  ages()"
      ],
      "metadata": {
        "colab": {
          "base_uri": "https://localhost:8080/"
        },
        "id": "TG5LVZeqbla-",
        "outputId": "4b6a4abf-bddf-4334-ab2c-0ae6340d1934"
      },
      "execution_count": 17,
      "outputs": [
        {
          "output_type": "stream",
          "name": "stdout",
          "text": [
            "04_how_old_are_they\n",
            "Anton is 21 years old.\n",
            "Beth is 27 years old.\n",
            "Chen is 47 years old.\n",
            "Drew is 68 years old.\n",
            "Ethan is 47 years old.\n"
          ]
        }
      ]
    },
    {
      "cell_type": "code",
      "source": [
        "print('05_triangle_perimeter.')\n",
        "\n",
        "def triangle_parameter():\n",
        "  print(\"This program takes length of each side of tringle from user and  prints the parameter of triangle.\")\n",
        "  tri_side1 : float = float(input(\"Enter the length of first side of triangle \"))\n",
        "  tri_side2 : float = float(input(\"Enter the length of second side of triangle \"))\n",
        "  tri_side3 : float = float(input(\"Enter the length of third side of triangle\"))\n",
        "  tri_parameter: float = tri_side1 + tri_side2 + tri_side3\n",
        "  print(f'The parameter of triangle is {tri_parameter}.')\n",
        "\n",
        "if __name__ == '__main__':\n",
        "  triangle_parameter()"
      ],
      "metadata": {
        "colab": {
          "base_uri": "https://localhost:8080/"
        },
        "id": "5_KUlaMMtUG2",
        "outputId": "a2b0dab1-7f84-4f2f-f7fe-1b47ea4d483f"
      },
      "execution_count": 19,
      "outputs": [
        {
          "output_type": "stream",
          "name": "stdout",
          "text": [
            "05_triangle_perimeter.\n",
            "This program will take length of each side of tringle from user and will print the parameter of triangle.\n",
            "Enter the length of first side of triangle 4\n",
            "Enter the length of second side of triangle 4\n",
            "Enter the length of third side of triangle8\n",
            "The parameter of triangle is 16.0.\n"
          ]
        }
      ]
    },
    {
      "cell_type": "code",
      "source": [
        "print('06_square_number')\n",
        "\n",
        "def square_number():\n",
        "  print('This program asks user for a number and prints its square.')\n",
        "  num: float = float(input('Enter a number to see its square: '))\n",
        "  print(str(num) + \" squared is \" + str(num ** 2))\n",
        "\n",
        "if __name__ == '__main__':\n",
        "  square_number()"
      ],
      "metadata": {
        "colab": {
          "base_uri": "https://localhost:8080/"
        },
        "id": "Vq5U2JIT0Qvd",
        "outputId": "5431298c-1072-4442-985f-25a4dff73931"
      },
      "execution_count": 21,
      "outputs": [
        {
          "output_type": "stream",
          "name": "stdout",
          "text": [
            "06_square_number\n",
            "This program asks user for a number and prints its square.\n",
            "Enter a number to see its square: 6\n",
            "6.0 squared is 36.0\n"
          ]
        }
      ]
    }
  ]
}