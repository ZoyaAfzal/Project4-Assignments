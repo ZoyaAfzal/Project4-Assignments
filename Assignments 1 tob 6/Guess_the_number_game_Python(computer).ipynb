{
  "nbformat": 4,
  "nbformat_minor": 0,
  "metadata": {
    "colab": {
      "provenance": [],
      "authorship_tag": "ABX9TyPoSiG873EuRcRXOCkJhV80",
      "include_colab_link": true
    },
    "kernelspec": {
      "name": "python3",
      "display_name": "Python 3"
    },
    "language_info": {
      "name": "python"
    }
  },
  "cells": [
    {
      "cell_type": "markdown",
      "metadata": {
        "id": "view-in-github",
        "colab_type": "text"
      },
      "source": [
        "<a href=\"https://colab.research.google.com/github/ZoyaAfzal/Project4-Assignments/blob/main/Assignments%201%20tob%206/Guess_the_number_game_Python(computer).ipynb\" target=\"_parent\"><img src=\"https://colab.research.google.com/assets/colab-badge.svg\" alt=\"Open In Colab\"/></a>"
      ]
    },
    {
      "cell_type": "code",
      "execution_count": null,
      "metadata": {
        "colab": {
          "base_uri": "https://localhost:8080/"
        },
        "id": "g56DB3JVtUiR",
        "outputId": "5077c797-bc20-48ec-a575-7e182af064e8"
      },
      "outputs": [
        {
          "output_type": "stream",
          "name": "stdout",
          "text": [
            "\n",
            "Welcome to 'Guess the Number'! You have 5 attempts to guess correctly.\n",
            "\n",
            "Guess a number between 1 and 10: 8\n",
            "Too high! Try again.\n",
            "\n",
            "You have 4 attempts left.\n",
            "\n",
            "Guess a number between 1 and 10: 5\n",
            "Too high! Try again.\n",
            "\n",
            "You have 3 attempts left.\n",
            "\n",
            "Guess a number between 1 and 10: 3\n",
            "\n",
            "🎉 Yay! You guessed the number 3 correctly! 🎉\n",
            "\n",
            "Do you want to play again? (yes/no): yes\n",
            "\n",
            "Welcome to 'Guess the Number'! You have 5 attempts to guess correctly.\n",
            "\n",
            "Guess a number between 1 and 10: 2\n",
            "Too high! Try again.\n",
            "\n",
            "You have 4 attempts left.\n",
            "\n",
            "Guess a number between 1 and 10: 1\n",
            "\n",
            "🎉 Yay! You guessed the number 1 correctly! 🎉\n",
            "\n",
            "Do you want to play again? (yes/no): no\n",
            "\n",
            "Thanks for playing! Goodbye! 👋\n",
            "\n"
          ]
        }
      ],
      "source": [
        "import random\n",
        "\n",
        "def guess(x):\n",
        "    random_number = random.randint(1, x)\n",
        "    guess = None\n",
        "    attempts = 5  # Number of attempts before game over\n",
        "\n",
        "    print(f\"\\nWelcome to 'Guess the Number'! You have {attempts} attempts to guess correctly.\\n\")\n",
        "\n",
        "    while attempts > 0:\n",
        "        try:\n",
        "            guess = int(input(f\"Guess a number between 1 and {x}: \"))\n",
        "\n",
        "            if guess < 1 or guess > x:\n",
        "                print(f\"Out of range! Please enter a number between 1 and {x}.\\n\")\n",
        "                continue\n",
        "\n",
        "            if guess < random_number:\n",
        "                print(\"Too low! Try again.\\n\")\n",
        "            elif guess > random_number:\n",
        "                print(\"Too high! Try again.\\n\")\n",
        "            else:\n",
        "                print(f\"\\n🎉 Yay! You guessed the number {random_number} correctly! 🎉\\n\")\n",
        "                break  # Exit loop when guessed correctly\n",
        "\n",
        "            attempts -= 1\n",
        "            if attempts > 0:\n",
        "                print(f\"You have {attempts} attempts left.\\n\")\n",
        "            else:\n",
        "                print(f\"\\n😢 Out of attempts! The number was {random_number}. Better luck next time!\\n\")\n",
        "\n",
        "        except ValueError:\n",
        "            print(\"Invalid input! Please enter a valid integer.\\n\")\n",
        "\n",
        "def play_game():\n",
        "    while True:\n",
        "        guess(10)\n",
        "        play_again = input(\"Do you want to play again? (yes/no): \").strip().lower()\n",
        "        if play_again not in ['yes', 'y']:\n",
        "            print(\"\\nThanks for playing! Goodbye! 👋\\n\")\n",
        "            break\n",
        "\n",
        "play_game()\n"
      ]
    }
  ]
}