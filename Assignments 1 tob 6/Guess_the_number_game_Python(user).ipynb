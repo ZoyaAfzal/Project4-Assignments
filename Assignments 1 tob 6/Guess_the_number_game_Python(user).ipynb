{
  "nbformat": 4,
  "nbformat_minor": 0,
  "metadata": {
    "colab": {
      "provenance": [],
      "authorship_tag": "ABX9TyOqJNoEl9odijpmil4p9qbB",
      "include_colab_link": true
    },
    "kernelspec": {
      "name": "python3",
      "display_name": "Python 3"
    },
    "language_info": {
      "name": "python"
    }
  },
  "cells": [
    {
      "cell_type": "markdown",
      "metadata": {
        "id": "view-in-github",
        "colab_type": "text"
      },
      "source": [
        "<a href=\"https://colab.research.google.com/github/ZoyaAfzal/Project4-Assignments/blob/main/Assignments%201%20tob%206/Guess_the_number_game_Python(user).ipynb\" target=\"_parent\"><img src=\"https://colab.research.google.com/assets/colab-badge.svg\" alt=\"Open In Colab\"/></a>"
      ]
    },
    {
      "cell_type": "code",
      "execution_count": null,
      "metadata": {
        "colab": {
          "base_uri": "https://localhost:8080/"
        },
        "id": "bqm-_2kv4llK",
        "outputId": "5ed58d13-a232-4a24-8ec0-81ca96a10193"
      },
      "outputs": [
        {
          "output_type": "stream",
          "name": "stdout",
          "text": [
            "\n",
            "Think of a number between 1 and 100, and I'll try to guess it!\n",
            "\n",
            "Is 76 too high (H), too low (L), or correct (C)? l\n",
            "Is 77 too high (H), too low (L), or correct (C)? l\n",
            "Is 90 too high (H), too low (L), or correct (C)? h\n",
            "Is 79 too high (H), too low (L), or correct (C)? l\n",
            "Is 84 too high (H), too low (L), or correct (C)? h\n",
            "Is 83 too high (H), too low (L), or correct (C)? h\n",
            "Is 82 too high (H), too low (L), or correct (C)? h\n",
            "Is 80 too high (H), too low (L), or correct (C)? c\n",
            "\n",
            "Yay! The computer guessed your number, 80, correctly!\n",
            "\n"
          ]
        }
      ],
      "source": [
        "import random\n",
        "\n",
        "def computer_guess(x):\n",
        "    low = 1\n",
        "    high = x\n",
        "    feedback = ''\n",
        "\n",
        "    print(f\"\\nThink of a number between 1 and {x}, and I'll try to guess it!\\n\")\n",
        "\n",
        "    while feedback != 'c':\n",
        "        if low != high:\n",
        "            guess = random.randint(low, high)\n",
        "        else:\n",
        "            guess = low  # If low == high, this must be the number\n",
        "\n",
        "        feedback = input(f\"Is {guess} too high (H), too low (L), or correct (C)? \").lower()\n",
        "\n",
        "        if feedback == 'h':\n",
        "            high = guess - 1\n",
        "        elif feedback == 'l':\n",
        "            low = guess + 1\n",
        "        elif feedback == 'c':\n",
        "            print(f\"\\nYay! The computer guessed your number, {guess}, correctly!\\n\")\n",
        "        else:\n",
        "            print(\"Invalid input! Please enter 'H', 'L', or 'C'.\")\n",
        "\n",
        "computer_guess(100)  # The user thinks of a number between 1 and 100\n"
      ]
    }
  ]
}