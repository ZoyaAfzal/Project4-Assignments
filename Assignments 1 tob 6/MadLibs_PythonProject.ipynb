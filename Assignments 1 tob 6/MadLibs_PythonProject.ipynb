{
  "nbformat": 4,
  "nbformat_minor": 0,
  "metadata": {
    "colab": {
      "provenance": [],
      "authorship_tag": "ABX9TyMgaCjJC+Yr42KHZhNYOJWp",
      "include_colab_link": true
    },
    "kernelspec": {
      "name": "python3",
      "display_name": "Python 3"
    },
    "language_info": {
      "name": "python"
    }
  },
  "cells": [
    {
      "cell_type": "markdown",
      "metadata": {
        "id": "view-in-github",
        "colab_type": "text"
      },
      "source": [
        "<a href=\"https://colab.research.google.com/github/ZoyaAfzal/Project4-Assignments/blob/main/Assignments%201%20tob%206/MadLibs_PythonProject.ipynb\" target=\"_parent\"><img src=\"https://colab.research.google.com/assets/colab-badge.svg\" alt=\"Open In Colab\"/></a>"
      ]
    },
    {
      "cell_type": "code",
      "source": [
        "import random\n",
        "\n",
        "def madlibs_adventure():\n",
        "    \"\"\"Creates a more engaging Mad Libs adventure story.\"\"\"\n",
        "\n",
        "    adjective1 = input(\"Enter an adjective: \")\n",
        "    noun1 = input(\"Enter a noun (plural): \")\n",
        "    verb1 = input(\"Enter a verb (past tense): \")\n",
        "    adjective2 = input(\"Enter another adjective: \")\n",
        "    noun2 = input(\"Enter a noun: \")\n",
        "    place1 = input(\"Enter a place: \")\n",
        "    verb2 = input(\"Enter another verb: \")\n",
        "    animal1 = input(\"Enter an animal: \")\n",
        "    food1 = input(\"Enter a food: \")\n",
        "    emotion1 = input(\"Enter an emotion: \")\n",
        "    number1 = input(\"Enter a number: \")\n",
        "    adjective3 = input(\"Enter a third adjective: \")\n",
        "    noun3 = input(\"Enter a magical noun: \")\n",
        "    verb3 = input(\"Enter a verb ending in 'ing': \")\n",
        "    place2 = input(\"Enter a fantastical place: \")\n",
        "    animal2 = input(\"Enter a mythical animal: \")\n",
        "    exclamation = input(\"Enter an exclamation: \")\n",
        "\n",
        "    story = f\"\"\"\n",
        "    Deep within the {adjective1} forest, a group of {noun1} suddenly {verb1}.\n",
        "    They discovered a {adjective2} {noun2} leading to the mysterious {place1}.\n",
        "    Intrigued, they decided to {verb2} forward.\n",
        "    Suddenly, a giant {animal1} appeared, munching on a {food1}.\n",
        "    This made them feel {emotion1}.\n",
        "    They counted {number1} shimmering fireflies.\n",
        "    Then, a {adjective3} portal opened, revealing a legendary {noun3}.\n",
        "    The portal started {verb3} and they were pulled into the {place2}.\n",
        "    There they encountered a {animal2}.\n",
        "    {exclamation}! They had found the lost city of {place2}!\n",
        "    \"\"\"\n",
        "\n",
        "    print(\"\\nYour Magical Mad Libs Adventure:\\n\")\n",
        "    print(story)\n",
        "\n",
        "madlibs_adventure()\n",
        "\n",
        "\n"
      ],
      "metadata": {
        "colab": {
          "base_uri": "https://localhost:8080/"
        },
        "id": "kObU-z7hnfsB",
        "outputId": "d419c359-b0bd-4538-e8ce-e488f088e028"
      },
      "execution_count": null,
      "outputs": [
        {
          "output_type": "stream",
          "name": "stdout",
          "text": [
            "Enter an adjective: sparkling\n",
            "Enter a noun (plural): unicorns\n",
            "Enter a verb (past tense): teleported\n",
            "Enter another adjective: glowing\n",
            "Enter a noun: spiral staircase\n",
            "Enter a place: Crystal Caverns\n",
            "Enter another verb: tiptoe\n",
            "Enter an animal: hamster\n",
            "Enter a food: a giant blueberry muffin\n",
            "Enter an emotion: flabbergasted\n",
            "Enter a number: 42\n",
            "Enter a third adjective: wobbly\n",
            "Enter a magical noun: singing teapot\n",
            "Enter a verb ending in 'ing': pulsating\n",
            "Enter a fantastical place: Rainbow Realm\n",
            "Enter a mythical animal: miniature dragon\n",
            "Enter an exclamation: Holy guacamole!\n",
            "\n",
            "Your Magical Mad Libs Adventure:\n",
            "\n",
            "\n",
            "    Deep within the sparkling forest, a group of unicorns suddenly teleported. \n",
            "    They discovered a glowing spiral staircase leading to the mysterious Crystal Caverns. \n",
            "    Intrigued, they decided to tiptoe forward. \n",
            "    Suddenly, a giant hamster appeared, munching on a a giant blueberry muffin. \n",
            "    This made them feel flabbergasted. \n",
            "    They counted 42 shimmering fireflies. \n",
            "    Then, a wobbly portal opened, revealing a legendary singing teapot. \n",
            "    The portal started pulsating and they were pulled into the Rainbow Realm.\n",
            "    There they encountered a miniature dragon.\n",
            "    Holy guacamole!! They had found the lost city of Rainbow Realm!\n",
            "    \n"
          ]
        }
      ]
    }
  ]
}