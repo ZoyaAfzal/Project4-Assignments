{
  "nbformat": 4,
  "nbformat_minor": 0,
  "metadata": {
    "colab": {
      "provenance": [],
      "authorship_tag": "ABX9TyPXXGDaNnUGrN0LW1atmIEw",
      "include_colab_link": true
    },
    "kernelspec": {
      "name": "python3",
      "display_name": "Python 3"
    },
    "language_info": {
      "name": "python"
    }
  },
  "cells": [
    {
      "cell_type": "markdown",
      "metadata": {
        "id": "view-in-github",
        "colab_type": "text"
      },
      "source": [
        "<a href=\"https://colab.research.google.com/github/ZoyaAfzal/Project4-Assignments/blob/main/Assignments%201%20tob%206/BMI_Calculator.ipynb\" target=\"_parent\"><img src=\"https://colab.research.google.com/assets/colab-badge.svg\" alt=\"Open In Colab\"/></a>"
      ]
    },
    {
      "cell_type": "code",
      "execution_count": null,
      "metadata": {
        "id": "LMw6lbgXEiAf"
      },
      "outputs": [],
      "source": [
        "import streamlit as st\n",
        "import pandas as pd\n",
        "import matplotlib.pyplot as plt\n",
        "import numpy as np\n",
        "\n",
        "st.title('Welcome to the BMI Calculator')\n",
        "\n",
        "# Height and weight input\n",
        "height = st.slider('Enter your height (in cm): ', 100, 250, 175)\n",
        "weight = st.slider('Enter your weight (in kg): ', 40, 200, 70)\n",
        "\n",
        "# BMI calculation\n",
        "bmi = weight / ((height / 100) ** 2)\n",
        "\n",
        "# Displaying BMI result\n",
        "st.write(f'Your BMI is **{bmi:.2f}**')\n",
        "\n",
        "# Determining BMI category\n",
        "if bmi < 18.5:\n",
        "    category = 'Underweight'\n",
        "    advice = 'You may want to consult a healthcare professional to ensure you are healthy.'\n",
        "elif 18.5 <= bmi < 24.9:\n",
        "    category = 'Normal weight'\n",
        "    advice = 'Great job! Keep maintaining a balanced diet and regular exercise.'\n",
        "elif 25 <= bmi < 29.9:\n",
        "    category = 'Overweight'\n",
        "    advice = 'Consider making some lifestyle changes to achieve a healthier weight.'\n",
        "else:\n",
        "    category = 'Obesity'\n",
        "    advice = 'It’s highly recommended to consult a doctor for guidance on weight management.'\n",
        "\n",
        "# Displaying category and advice\n",
        "st.write(f'### BMI Category: {category}')\n",
        "st.write(advice)\n",
        "\n",
        "# BMI Categories Overview\n",
        "st.write('### BMI Categories ###')\n",
        "st.write('- **Underweight**: BMI less than 18.5')\n",
        "st.write('- **Normal weight**: BMI between 18.5 and 24.9')\n",
        "st.write('- **Overweight**: BMI between 25 and 29.9')\n",
        "st.write('- **Obesity**: BMI 30 or greater')\n",
        "\n",
        "# Visualizing BMI category\n",
        "fig, ax = plt.subplots(figsize=(10, 3))\n",
        "\n",
        "# Creating a simple BMI scale\n",
        "categories = ['Underweight', 'Normal weight', 'Overweight', 'Obesity']\n",
        "bmi_values = [18.5, 24.9, 29.9, 40]  # The max value for each category\n",
        "colors = ['lightblue', 'lightgreen', 'orange', 'red']\n",
        "\n",
        "ax.barh(categories, bmi_values, color=colors)\n",
        "ax.set_xlim(0, 40)\n",
        "\n",
        "# Highlighting the user's BMI on the scale\n",
        "ax.axvline(bmi, color='black', linestyle='--')\n",
        "ax.text(bmi + 0.5, 1.5, f'Your BMI: {bmi:.2f}', color='black', fontsize=12, verticalalignment='center')\n",
        "\n",
        "ax.set_title(\"BMI Categories\")\n",
        "ax.set_xlabel(\"BMI Value\")\n",
        "ax.set_ylabel(\"Category\")\n",
        "\n",
        "# Displaying the plot in Streamlit\n",
        "st.pyplot(fig)\n"
      ]
    },
    {
      "cell_type": "code",
      "source": [
        "! pip install streamlit -q\n"
      ],
      "metadata": {
        "id": "oSHah19-FFmA",
        "colab": {
          "base_uri": "https://localhost:8080/"
        },
        "outputId": "b6fdb809-14e0-48d2-fb97-8ef03689eb73"
      },
      "execution_count": null,
      "outputs": [
        {
          "output_type": "stream",
          "name": "stdout",
          "text": [
            "\u001b[2K     \u001b[90m━━━━━━━━━━━━━━━━━━━━━━━━━━━━━━━━━━━━━━━━\u001b[0m \u001b[32m44.3/44.3 kB\u001b[0m \u001b[31m2.8 MB/s\u001b[0m eta \u001b[36m0:00:00\u001b[0m\n",
            "\u001b[2K   \u001b[90m━━━━━━━━━━━━━━━━━━━━━━━━━━━━━━━━━━━━━━━━\u001b[0m \u001b[32m9.8/9.8 MB\u001b[0m \u001b[31m73.9 MB/s\u001b[0m eta \u001b[36m0:00:00\u001b[0m\n",
            "\u001b[2K   \u001b[90m━━━━━━━━━━━━━━━━━━━━━━━━━━━━━━━━━━━━━━━━\u001b[0m \u001b[32m6.9/6.9 MB\u001b[0m \u001b[31m94.5 MB/s\u001b[0m eta \u001b[36m0:00:00\u001b[0m\n",
            "\u001b[2K   \u001b[90m━━━━━━━━━━━━━━━━━━━━━━━━━━━━━━━━━━━━━━━━\u001b[0m \u001b[32m79.1/79.1 kB\u001b[0m \u001b[31m5.6 MB/s\u001b[0m eta \u001b[36m0:00:00\u001b[0m\n",
            "\u001b[?25h"
          ]
        }
      ]
    },
    {
      "cell_type": "code",
      "source": [
        "!wget -q -O - ipv4.icanhazip.com"
      ],
      "metadata": {
        "id": "IwBAla5YF0vJ",
        "colab": {
          "base_uri": "https://localhost:8080/"
        },
        "outputId": "ebd7e783-4564-49f3-b3f7-37ac8df7c91e"
      },
      "execution_count": null,
      "outputs": [
        {
          "output_type": "stream",
          "name": "stdout",
          "text": [
            "35.204.65.139\n"
          ]
        }
      ]
    },
    {
      "cell_type": "code",
      "source": [
        "! streamlit run app.py & npx localtunnel --port 8501"
      ],
      "metadata": {
        "id": "B8ZSmnPkGiN5",
        "colab": {
          "base_uri": "https://localhost:8080/"
        },
        "outputId": "fa704327-20a7-4ce9-b217-74a70bd1e15b"
      },
      "execution_count": null,
      "outputs": [
        {
          "output_type": "stream",
          "name": "stdout",
          "text": [
            "/bin/bash: line 1: streamlit: command not found\n",
            "\u001b[1G\u001b[0K⠙\u001b[1G\u001b[0K⠹\u001b[1G\u001b[0K⠸\u001b[1G\u001b[0K⠼\u001b[1G\u001b[0K⠴\u001b[1G\u001b[0K⠦\u001b[1G\u001b[0K\u001b[1G\u001b[0JNeed to install the following packages:\n",
            "localtunnel@2.0.2\n",
            "Ok to proceed? (y) \u001b[20G"
          ]
        }
      ]
    }
  ]
}