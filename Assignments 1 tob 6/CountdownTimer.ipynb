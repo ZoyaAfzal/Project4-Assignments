{
  "nbformat": 4,
  "nbformat_minor": 0,
  "metadata": {
    "colab": {
      "provenance": [],
      "authorship_tag": "ABX9TyMazZLtyqf1TTfoKNJOsKXq",
      "include_colab_link": true
    },
    "kernelspec": {
      "name": "python3",
      "display_name": "Python 3"
    },
    "language_info": {
      "name": "python"
    }
  },
  "cells": [
    {
      "cell_type": "markdown",
      "metadata": {
        "id": "view-in-github",
        "colab_type": "text"
      },
      "source": [
        "<a href=\"https://colab.research.google.com/github/ZoyaAfzal/Project4-Assignments/blob/main/Assignments%201%20tob%206/CountdownTimer.ipynb\" target=\"_parent\"><img src=\"https://colab.research.google.com/assets/colab-badge.svg\" alt=\"Open In Colab\"/></a>"
      ]
    },
    {
      "cell_type": "code",
      "execution_count": null,
      "metadata": {
        "colab": {
          "base_uri": "https://localhost:8080/"
        },
        "id": "AxAtTsaAMkFB",
        "outputId": "12cb9489-74db-4085-ed59-89987f4a2abb"
      },
      "outputs": [
        {
          "output_type": "stream",
          "name": "stdout",
          "text": [
            "Enter the time in seconds: 40\n",
            "Timer Completed!\n"
          ]
        }
      ],
      "source": [
        "import time\n",
        "\n",
        "def countdown(t):\n",
        "    while t:\n",
        "        mins, secs = divmod(t, 60)\n",
        "        hours, mins = divmod(mins, 60)\n",
        "        timer = '{:02d}:{:02d}:{:02d}'.format(hours, mins, secs)\n",
        "        print(timer, end='\\r')\n",
        "        time.sleep(1)\n",
        "        t -= 1\n",
        "\n",
        "    print('Timer Completed!')\n",
        "\n",
        "def get_input():\n",
        "    while True:\n",
        "        try:\n",
        "            t = int(input('Enter the time in seconds: '))\n",
        "            if t <= 0:\n",
        "                print(\"Please enter a positive number.\")\n",
        "            else:\n",
        "                return t\n",
        "        except ValueError:\n",
        "            print(\"Invalid input. Please enter a valid number.\")\n",
        "\n",
        "# Get user input\n",
        "time_in_seconds = get_input()\n",
        "\n",
        "# Start the countdown timer\n",
        "countdown(time_in_seconds)\n"
      ]
    }
  ]
}