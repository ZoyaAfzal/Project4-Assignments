{
  "nbformat": 4,
  "nbformat_minor": 0,
  "metadata": {
    "colab": {
      "provenance": [],
      "authorship_tag": "ABX9TyNmLagJl0er2oFVY22GJCy4",
      "include_colab_link": true
    },
    "kernelspec": {
      "name": "python3",
      "display_name": "Python 3"
    },
    "language_info": {
      "name": "python"
    }
  },
  "cells": [
    {
      "cell_type": "markdown",
      "metadata": {
        "id": "view-in-github",
        "colab_type": "text"
      },
      "source": [
        "<a href=\"https://colab.research.google.com/github/ZoyaAfzal/Project4-Assignments/blob/main/Assignments%201%20tob%206/PasswordGenertor_PythonProject.ipynb\" target=\"_parent\"><img src=\"https://colab.research.google.com/assets/colab-badge.svg\" alt=\"Open In Colab\"/></a>"
      ]
    },
    {
      "cell_type": "code",
      "execution_count": null,
      "metadata": {
        "colab": {
          "base_uri": "https://localhost:8080/"
        },
        "id": "YXBFKfVqudLs",
        "outputId": "032250d2-c535-4c22-e523-c13e0ed6ac0a"
      },
      "outputs": [
        {
          "name": "stdout",
          "output_type": "stream",
          "text": [
            "Welcome to your customizable password generator\n",
            "Do you want lowercase letters? (y/n): y\n"
          ]
        }
      ],
      "source": [
        "import random\n",
        "import string\n",
        "\n",
        "print('Welcome to your customizable password generator')\n",
        "\n",
        "# Asking the user for their desired password criteria\n",
        "include_lowercase = input('Do you want lowercase letters? (y/n): ').strip().lower() in ['y', 'yes']\n",
        "include_uppercase = input('Do you want uppercase letters? (y/n): ').strip().lower() in ['y', 'yes']\n",
        "include_digits = input('Do you want digits? (y/n): ').strip().lower() in ['y', 'yes']\n",
        "include_punctuation = input('Do you want special characters? (y/n): ').strip().lower() in ['y', 'yes']\n",
        "\n",
        "# Building the character pool based on the user’s choices\n",
        "char_pool = ''\n",
        "if include_lowercase:\n",
        "    char_pool += string.ascii_lowercase\n",
        "if include_uppercase:\n",
        "    char_pool += string.ascii_uppercase\n",
        "if include_digits:\n",
        "    char_pool += string.digits\n",
        "if include_punctuation:\n",
        "    char_pool += string.punctuation\n",
        "\n",
        "# If no character set is selected, print a warning and exit\n",
        "if not char_pool:\n",
        "    print(\"You must select at least one character set (lowercase, uppercase, digits, punctuation).\")\n",
        "else:\n",
        "    # Input for the number of passwords and length\n",
        "    number = int(input('Amount of passwords to generate: '))\n",
        "    length = int(input('Input your desired password length: '))\n",
        "\n",
        "    print('\\nHere are your customized passwords: ')\n",
        "\n",
        "    # Generating passwords\n",
        "    for pwd in range(number):\n",
        "        # Ensuring each password has at least one character from each selected category\n",
        "        password = []\n",
        "        if include_lowercase:\n",
        "            password.append(random.choice(string.ascii_lowercase))\n",
        "        if include_uppercase:\n",
        "            password.append(random.choice(string.ascii_uppercase))\n",
        "        if include_digits:\n",
        "            password.append(random.choice(string.digits))\n",
        "        if include_punctuation:\n",
        "            password.append(random.choice(string.punctuation))\n",
        "\n",
        "        # Filling the rest of the password with random characters from the selected pool\n",
        "        password += random.choices(char_pool, k=length - len(password))\n",
        "\n",
        "        # Shuffling the characters to ensure randomness\n",
        "        random.shuffle(password)\n",
        "\n",
        "        # Joining the list to form the final password\n",
        "        final_password = ''.join(password)\n",
        "\n",
        "        print(final_password)\n",
        "\n"
      ]
    }
  ]
}