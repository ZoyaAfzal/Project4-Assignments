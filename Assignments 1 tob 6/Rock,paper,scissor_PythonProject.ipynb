{
  "nbformat": 4,
  "nbformat_minor": 0,
  "metadata": {
    "colab": {
      "provenance": [],
      "authorship_tag": "ABX9TyNi49LNulq09m9Npd0btBI2",
      "include_colab_link": true
    },
    "kernelspec": {
      "name": "python3",
      "display_name": "Python 3"
    },
    "language_info": {
      "name": "python"
    }
  },
  "cells": [
    {
      "cell_type": "markdown",
      "metadata": {
        "id": "view-in-github",
        "colab_type": "text"
      },
      "source": [
        "<a href=\"https://colab.research.google.com/github/ZoyaAfzal/Project4-Assignments/blob/main/Assignments%201%20tob%206/Rock%2Cpaper%2Cscissor_PythonProject.ipynb\" target=\"_parent\"><img src=\"https://colab.research.google.com/assets/colab-badge.svg\" alt=\"Open In Colab\"/></a>"
      ]
    },
    {
      "cell_type": "code",
      "execution_count": null,
      "metadata": {
        "colab": {
          "base_uri": "https://localhost:8080/"
        },
        "id": "jux9uAHH2By9",
        "outputId": "57a52e92-23d7-45fd-c7f8-4533882e8852"
      },
      "outputs": [
        {
          "output_type": "stream",
          "name": "stdout",
          "text": [
            "How many rounds do you want to play? 2\n",
            "\n",
            "New round!\n",
            "What's your choice? 'r' for rock, 'p' for paper, 's' for scissors: p\n",
            "Computer's choice: p\n",
            "It's a tie!\n",
            "Current score: You 0 - Computer 0\n",
            "\n",
            "New round!\n",
            "What's your choice? 'r' for rock, 'p' for paper, 's' for scissors: s\n",
            "Computer's choice: p\n",
            "You won this round!\n",
            "Current score: You 1 - Computer 0\n",
            "\n",
            "You won the game!\n"
          ]
        }
      ],
      "source": [
        "import random\n",
        "\n",
        "def play():\n",
        "    user_score = 0\n",
        "    computer_score = 0\n",
        "    rounds = int(input(\"How many rounds do you want to play? \"))\n",
        "\n",
        "    for _ in range(rounds):\n",
        "        print(\"\\nNew round!\")\n",
        "        user = get_user_choice()\n",
        "        computer = random.choice(['r', 'p', 's'])\n",
        "        print(f\"Computer's choice: {computer}\")\n",
        "\n",
        "        if user == computer:\n",
        "            print(\"It's a tie!\")\n",
        "        elif is_win(user, computer):\n",
        "            print(\"You won this round!\")\n",
        "            user_score += 1\n",
        "        else:\n",
        "            print(\"You lost this round!\")\n",
        "            computer_score += 1\n",
        "\n",
        "        print(f\"Current score: You {user_score} - Computer {computer_score}\")\n",
        "\n",
        "    if user_score > computer_score:\n",
        "        print(\"\\nYou won the game!\")\n",
        "    elif computer_score > user_score:\n",
        "        print(\"\\nYou lost the game. Better luck next time!\")\n",
        "    else:\n",
        "        print(\"\\nIt's a tie overall! Well played!\")\n",
        "\n",
        "def get_user_choice():\n",
        "    while True:\n",
        "        user = input(\"What's your choice? 'r' for rock, 'p' for paper, 's' for scissors: \").lower()\n",
        "        if user in ['r', 'p', 's']:\n",
        "            return user\n",
        "        else:\n",
        "            print(\"Invalid choice! Please enter 'r' for rock, 'p' for paper, or 's' for scissors.\")\n",
        "\n",
        "def is_win(player, opponent):\n",
        "    # r > s, s > p, p > r\n",
        "    if (player == 'r' and opponent == 's') or (player == 's' and opponent == 'p') or (player == 'p' and opponent == 'r'):\n",
        "        return True\n",
        "    return False\n",
        "\n",
        "# Start the game\n",
        "play()\n"
      ]
    }
  ]
}