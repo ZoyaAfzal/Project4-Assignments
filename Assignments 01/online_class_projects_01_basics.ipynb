{
  "nbformat": 4,
  "nbformat_minor": 0,
  "metadata": {
    "colab": {
      "provenance": [],
      "authorship_tag": "ABX9TyOEnOGFEkP5D765Pvy6Pz06",
      "include_colab_link": true
    },
    "kernelspec": {
      "name": "python3",
      "display_name": "Python 3"
    },
    "language_info": {
      "name": "python"
    }
  },
  "cells": [
    {
      "cell_type": "markdown",
      "metadata": {
        "id": "view-in-github",
        "colab_type": "text"
      },
      "source": [
        "<a href=\"https://colab.research.google.com/github/ZoyaAfzal/Project4-Assignments/blob/main/Assignments%2001/online_class_projects_01_basics.ipynb\" target=\"_parent\"><img src=\"https://colab.research.google.com/assets/colab-badge.svg\" alt=\"Open In Colab\"/></a>"
      ]
    },
    {
      "cell_type": "code",
      "execution_count": 5,
      "metadata": {
        "colab": {
          "base_uri": "https://localhost:8080/"
        },
        "id": "gZIkTspITsj3",
        "outputId": "dfab6ccf-cd5a-4fbc-8e4c-a5a37a08edfa"
      },
      "outputs": [
        {
          "output_type": "stream",
          "name": "stdout",
          "text": [
            "00_joke_bot\n",
            "What do you want? joke\n",
            "Why did the fruit salad start a podcast? \n",
            "Because it had plenty of juicy stories to share! 🍇🎙️😆\n"
          ]
        }
      ],
      "source": [
        "print('00_joke_bot')\n",
        "\n",
        "PROMPT: str = \"What do you want? \"\n",
        "JOKE: str = \"Why did the fruit salad start a podcast? \\nBecause it had plenty of juicy stories to share! 🍇🎙️😆\"\n",
        "SORRY: str = \"Sorry! I only tell jokes.\"\n",
        "\n",
        "def joke_bot():\n",
        "  user_input = input(PROMPT)\n",
        "  user_input = user_input.strip().lower()\n",
        "\n",
        "  if \"joke\" in user_input:\n",
        "      print(JOKE)\n",
        "  else:\n",
        "      print(SORRY)\n",
        "\n",
        "if __name__ == \"__main__\":\n",
        "    joke_bot()\n"
      ]
    },
    {
      "cell_type": "code",
      "source": [
        "print('01_double_it')\n",
        "\n",
        "def double_num():\n",
        "  user_val = int(input('Please enter a number:'))\n",
        "  while user_val < 100:\n",
        "    user_val = user_val * 2\n",
        "    print(user_val,end = \" \")\n",
        "\n",
        "if __name__ == '__main__':\n",
        "  double_num()\n"
      ],
      "metadata": {
        "colab": {
          "base_uri": "https://localhost:8080/"
        },
        "id": "j-aovwdubQCA",
        "outputId": "f1179f5c-fa56-470d-de3f-5ff5d9da99eb"
      },
      "execution_count": 7,
      "outputs": [
        {
          "output_type": "stream",
          "name": "stdout",
          "text": [
            "01_double_it\n",
            "Please enter a number:5\n",
            "10 20 40 80 160 "
          ]
        }
      ]
    },
    {
      "cell_type": "code",
      "source": [
        "print('02_liftoff')\n",
        "\n",
        "def liftoff():\n",
        "  for i in range(10, 0, -1):\n",
        "    print(i, end = \" \")\n",
        "  print('Liftoff!', end = \" \")\n",
        "\n",
        "if __name__ == '__main__':\n",
        "  liftoff()"
      ],
      "metadata": {
        "colab": {
          "base_uri": "https://localhost:8080/"
        },
        "id": "vd0u5uIHb2HF",
        "outputId": "f44603d0-152b-4ce9-f111-5424a888f7b2"
      },
      "execution_count": 8,
      "outputs": [
        {
          "output_type": "stream",
          "name": "stdout",
          "text": [
            "02_liftoff\n",
            "10 9 8 7 6 5 4 3 2 1 Liftoff! "
          ]
        }
      ]
    },
    {
      "cell_type": "code",
      "source": [
        "import random\n",
        "\n",
        "print('03_guess_my_number')\n",
        "\n",
        "def guess_number():\n",
        "    secret_num = random.randint(1, 100)\n",
        "    print('I am thinking of a number between 1 and 100.')\n",
        "    print('Can you guess what it is?')\n",
        "\n",
        "    guess = int(input('Enter your guess: '))\n",
        "\n",
        "    while guess != secret_num:\n",
        "        if guess < secret_num:\n",
        "            print('Too low! Try again.')\n",
        "        else:\n",
        "            print('Too high! Try again.')\n",
        "        guess = int(input(\"Enter a new guess: \"))\n",
        "\n",
        "    print(f'🎉 Congratulations! You guessed the number {secret_num} correctly!')\n",
        "\n",
        "if __name__ == '__main__':\n",
        "    guess_number()\n"
      ],
      "metadata": {
        "colab": {
          "base_uri": "https://localhost:8080/"
        },
        "id": "lKXKSYGpcPlQ",
        "outputId": "cbde9336-fe00-49d7-9002-ae827e96c9ba"
      },
      "execution_count": 9,
      "outputs": [
        {
          "output_type": "stream",
          "name": "stdout",
          "text": [
            "03_guess_my_number\n",
            "I am thinking of a number between 1 and 100.\n",
            "Can you guess what it is?\n",
            "Enter your guess: 50\n",
            "Too high! Try again.\n",
            "Enter a new guess: 40\n",
            "Too high! Try again.\n",
            "Enter a new guess: 20\n",
            "Too high! Try again.\n",
            "Enter a new guess: 10\n",
            "Too low! Try again.\n",
            "Enter a new guess: 14\n",
            "Too low! Try again.\n",
            "Enter a new guess: 16\n",
            "Too low! Try again.\n",
            "Enter a new guess: 18\n",
            "Too low! Try again.\n",
            "Enter a new guess: 20\n",
            "Too high! Try again.\n",
            "Enter a new guess: 19\n",
            "🎉 Congratulations! You guessed the number 19 correctly!\n"
          ]
        }
      ]
    },
    {
      "cell_type": "code",
      "source": [
        "import random\n",
        "\n",
        "print('04_random_number')\n",
        "\n",
        "# Constants\n",
        "N_NUMBERS: int = 10\n",
        "MIN_VALUE: int = 1\n",
        "MAX_VALUE: int = 100\n",
        "\n",
        "def generate_random_numbers():\n",
        "    print(f\"Generating {N_NUMBERS} random numbers between {MIN_VALUE} and {MAX_VALUE}:\\n\")\n",
        "    for _ in range(N_NUMBERS):\n",
        "        number = random.randint(MIN_VALUE, MAX_VALUE)\n",
        "        print(number, end=\" \")\n",
        "\n",
        "# Entry point of the program\n",
        "if __name__ == \"__main__\":\n",
        "    generate_random_numbers()"
      ],
      "metadata": {
        "colab": {
          "base_uri": "https://localhost:8080/"
        },
        "id": "jrNyK6UbdgkD",
        "outputId": "ebee64e3-43c5-483f-e810-15104267b4f5"
      },
      "execution_count": 10,
      "outputs": [
        {
          "output_type": "stream",
          "name": "stdout",
          "text": [
            "04_random_number\n",
            "Generating 10 random numbers between 1 and 100:\n",
            "\n",
            "34 61 86 11 50 99 87 55 61 42 "
          ]
        }
      ]
    }
  ]
}